{
 "cells": [
  {
   "cell_type": "code",
   "execution_count": 1,
   "metadata": {},
   "outputs": [
    {
     "ename": "ModuleNotFoundError",
     "evalue": "No module named 'wget'",
     "output_type": "error",
     "traceback": [
      "\u001b[0;31m---------------------------------------------------------------------------\u001b[0m",
      "\u001b[0;31mModuleNotFoundError\u001b[0m                       Traceback (most recent call last)",
      "\u001b[0;32m<ipython-input-1-8cd931bdf2b0>\u001b[0m in \u001b[0;36m<module>\u001b[0;34m()\u001b[0m\n\u001b[1;32m      3\u001b[0m \u001b[0;32mimport\u001b[0m \u001b[0mos\u001b[0m\u001b[0;34m\u001b[0m\u001b[0;34m\u001b[0m\u001b[0m\n\u001b[1;32m      4\u001b[0m \u001b[0msys\u001b[0m\u001b[0;34m.\u001b[0m\u001b[0mpath\u001b[0m\u001b[0;34m.\u001b[0m\u001b[0mappend\u001b[0m\u001b[0;34m(\u001b[0m\u001b[0;34m\"./../../../../\"\u001b[0m\u001b[0;34m)\u001b[0m\u001b[0;34m\u001b[0m\u001b[0;34m\u001b[0m\u001b[0m\n\u001b[0;32m----> 5\u001b[0;31m \u001b[0;32mfrom\u001b[0m \u001b[0msrc\u001b[0m\u001b[0;34m.\u001b[0m\u001b[0mopendr\u001b[0m\u001b[0;34m.\u001b[0m\u001b[0msimulation\u001b[0m\u001b[0;34m.\u001b[0m\u001b[0mhuman_model_generation\u001b[0m\u001b[0;34m.\u001b[0m\u001b[0mpifu_generator\u001b[0m \u001b[0;32mimport\u001b[0m \u001b[0mPIFuGenerator\u001b[0m\u001b[0;34m\u001b[0m\u001b[0;34m\u001b[0m\u001b[0m\n\u001b[0m\u001b[1;32m      6\u001b[0m \u001b[0;32mimport\u001b[0m \u001b[0mmatplotlib\u001b[0m\u001b[0;34m.\u001b[0m\u001b[0mpyplot\u001b[0m \u001b[0;32mas\u001b[0m \u001b[0mplt\u001b[0m\u001b[0;34m\u001b[0m\u001b[0;34m\u001b[0m\u001b[0m\n\u001b[1;32m      7\u001b[0m \u001b[0;32mimport\u001b[0m \u001b[0mnumpy\u001b[0m \u001b[0;32mas\u001b[0m \u001b[0mnp\u001b[0m\u001b[0;34m\u001b[0m\u001b[0;34m\u001b[0m\u001b[0m\n",
      "\u001b[0;32m/media/charsyme/HDD_drive/Linux/opendr_internal/src/opendr/simulation/human_model_generation/pifu_generator.py\u001b[0m in \u001b[0;36m<module>\u001b[0;34m()\u001b[0m\n\u001b[1;32m      7\u001b[0m \u001b[0;32mimport\u001b[0m \u001b[0mos\u001b[0m\u001b[0;34m\u001b[0m\u001b[0;34m\u001b[0m\u001b[0m\n\u001b[1;32m      8\u001b[0m \u001b[0;32mfrom\u001b[0m \u001b[0msrc\u001b[0m\u001b[0;34m.\u001b[0m\u001b[0mopendr\u001b[0m\u001b[0;34m.\u001b[0m\u001b[0msimulation\u001b[0m\u001b[0;34m.\u001b[0m\u001b[0mhuman_model_generation\u001b[0m\u001b[0;34m.\u001b[0m\u001b[0mstudio\u001b[0m \u001b[0;32mimport\u001b[0m \u001b[0mStudio\u001b[0m\u001b[0;34m\u001b[0m\u001b[0;34m\u001b[0m\u001b[0m\n\u001b[0;32m----> 9\u001b[0;31m \u001b[0;32mimport\u001b[0m \u001b[0mwget\u001b[0m\u001b[0;34m\u001b[0m\u001b[0;34m\u001b[0m\u001b[0m\n\u001b[0m\u001b[1;32m     10\u001b[0m \u001b[0;32mfrom\u001b[0m \u001b[0mos\u001b[0m \u001b[0;32mimport\u001b[0m \u001b[0mpath\u001b[0m\u001b[0;34m\u001b[0m\u001b[0;34m\u001b[0m\u001b[0m\n\u001b[1;32m     11\u001b[0m \u001b[0;34m\u001b[0m\u001b[0m\n",
      "\u001b[0;31mModuleNotFoundError\u001b[0m: No module named 'wget'"
     ]
    }
   ],
   "source": [
    "import sys\n",
    "from PIL import Image\n",
    "import os\n",
    "sys.path.append(\"./../../../../\")\n",
    "from src.opendr.simulation.human_model_generation.pifu_generator import PIFuGenerator\n",
    "import matplotlib.pyplot as plt\n",
    "import numpy as np\n",
    "current_dir = os.getcwd()"
   ]
  },
  {
   "cell_type": "code",
   "execution_count": null,
   "metadata": {},
   "outputs": [],
   "source": [
    "# Load input image and mask\n",
    "rgb_img = Image.open(os.path.join(current_dir,'imgs_input/rgb/result_0004.jpg'))\n",
    "msk_img = Image.open(os.path.join(current_dir,'imgs_input/msk/result_0004.jpg'))\n",
    "%matplotlib inline\n",
    "f, axarr = plt.subplots(1,2,figsize=(8,8))\n",
    "axarr[0].imshow(np.asarray(rgb_img))\n",
    "axarr[1].imshow(np.asarray(msk_img))"
   ]
  },
  {
   "cell_type": "code",
   "execution_count": null,
   "metadata": {},
   "outputs": [],
   "source": [
    "# Initialize PIFu and infer \n",
    "model_generator = PIFuGenerator(device='cuda')\n",
    "[model_3D, human_pose_3D] = model_generator.infer(imgs_rgb=[rgb_img], imgs_msk=[msk_img], extract_pose=True)\n",
    "#model_3D = model_generator.infer(imgs_rgb=[rgb_img], imgs_msk=[msk_img])"
   ]
  },
  {
   "cell_type": "code",
   "execution_count": null,
   "metadata": {},
   "outputs": [],
   "source": [
    "# Get renderings of the 3D model in various views (rotations)\n",
    "rotations = [0, 45, 90, 180]\n",
    "[out_imgs, human_pose_2D] = model_generator.get_img_views(model_3D = model_3D, rotations = rotations, human_pose_3D = human_pose_3D, plot_kps=False)\n",
    "#out_imgs = model_generator.get_imgs_views(model_3D = model_3D, rotations = rotations)"
   ]
  },
  {
   "cell_type": "code",
   "execution_count": null,
   "metadata": {},
   "outputs": [],
   "source": [
    "# Visualize views and 2D joints\n",
    "f, axarr = plt.subplots(1, 4, figsize=(15,15))\n",
    "axarr[0].imshow(np.asarray(out_imgs[0]))\n",
    "axarr[1].imshow(np.asarray(out_imgs[1]))\n",
    "axarr[2].imshow(np.asarray(out_imgs[2]))\n",
    "axarr[3].imshow(np.asarray(out_imgs[3]))"
   ]
  },
  {
   "cell_type": "code",
   "execution_count": null,
   "metadata": {},
   "outputs": [],
   "source": []
  }
 ],
 "metadata": {
  "kernelspec": {
   "display_name": "opendr_env",
   "language": "python",
   "name": "opendr_env"
  },
  "language_info": {
   "codemirror_mode": {
    "name": "ipython",
    "version": 3
   },
   "file_extension": ".py",
   "mimetype": "text/x-python",
   "name": "python",
   "nbconvert_exporter": "python",
   "pygments_lexer": "ipython3",
   "version": "3.7.10"
  }
 },
 "nbformat": 4,
 "nbformat_minor": 4
}
